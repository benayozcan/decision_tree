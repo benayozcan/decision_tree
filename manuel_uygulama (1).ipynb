{
 "cells": [
  {
   "cell_type": "code",
   "execution_count": 1,
   "id": "fb53fd82-48a9-43b5-900e-87b233c418ab",
   "metadata": {},
   "outputs": [],
   "source": [
    "import pandas as pd"
   ]
  },
  {
   "cell_type": "code",
   "execution_count": 2,
   "id": "e7187466-2627-4896-b764-8b19d21d0fe5",
   "metadata": {},
   "outputs": [],
   "source": [
    "df = pd.read_csv(\"decision_tree_ornek.csv\", encoding='ISO-8859-1')"
   ]
  },
  {
   "cell_type": "code",
   "execution_count": 3,
   "id": "e5f33015-df9c-4c01-94e7-4c3cf9c4e9e8",
   "metadata": {},
   "outputs": [
    {
     "data": {
      "text/html": [
       "<div>\n",
       "<style scoped>\n",
       "    .dataframe tbody tr th:only-of-type {\n",
       "        vertical-align: middle;\n",
       "    }\n",
       "\n",
       "    .dataframe tbody tr th {\n",
       "        vertical-align: top;\n",
       "    }\n",
       "\n",
       "    .dataframe thead th {\n",
       "        text-align: right;\n",
       "    }\n",
       "</style>\n",
       "<table border=\"1\" class=\"dataframe\">\n",
       "  <thead>\n",
       "    <tr style=\"text-align: right;\">\n",
       "      <th></th>\n",
       "      <th>Calisma_Zamani</th>\n",
       "      <th>Uyku_Durumu</th>\n",
       "      <th>Dersi_gecme_durumu</th>\n",
       "    </tr>\n",
       "  </thead>\n",
       "  <tbody>\n",
       "    <tr>\n",
       "      <th>0</th>\n",
       "      <td>Çok</td>\n",
       "      <td>Yeterli</td>\n",
       "      <td>Evet</td>\n",
       "    </tr>\n",
       "    <tr>\n",
       "      <th>1</th>\n",
       "      <td>Orta</td>\n",
       "      <td>Az</td>\n",
       "      <td>Hayir</td>\n",
       "    </tr>\n",
       "    <tr>\n",
       "      <th>2</th>\n",
       "      <td>Az</td>\n",
       "      <td>Yeterli</td>\n",
       "      <td>Hayir</td>\n",
       "    </tr>\n",
       "    <tr>\n",
       "      <th>3</th>\n",
       "      <td>Orta</td>\n",
       "      <td>Yeterli</td>\n",
       "      <td>Evet</td>\n",
       "    </tr>\n",
       "    <tr>\n",
       "      <th>4</th>\n",
       "      <td>Çok</td>\n",
       "      <td>Az</td>\n",
       "      <td>Evet</td>\n",
       "    </tr>\n",
       "    <tr>\n",
       "      <th>5</th>\n",
       "      <td>Az</td>\n",
       "      <td>Az</td>\n",
       "      <td>Hayir</td>\n",
       "    </tr>\n",
       "    <tr>\n",
       "      <th>6</th>\n",
       "      <td>Orta</td>\n",
       "      <td>Yeterli</td>\n",
       "      <td>Evet</td>\n",
       "    </tr>\n",
       "    <tr>\n",
       "      <th>7</th>\n",
       "      <td>Az</td>\n",
       "      <td>Yeterli</td>\n",
       "      <td>Hayir</td>\n",
       "    </tr>\n",
       "    <tr>\n",
       "      <th>8</th>\n",
       "      <td>Çok</td>\n",
       "      <td>Yeterli</td>\n",
       "      <td>Evet</td>\n",
       "    </tr>\n",
       "    <tr>\n",
       "      <th>9</th>\n",
       "      <td>Orta</td>\n",
       "      <td>Az</td>\n",
       "      <td>Hayir</td>\n",
       "    </tr>\n",
       "  </tbody>\n",
       "</table>\n",
       "</div>"
      ],
      "text/plain": [
       "  Calisma_Zamani Uyku_Durumu Dersi_gecme_durumu\n",
       "0            Çok     Yeterli               Evet\n",
       "1           Orta          Az              Hayir\n",
       "2             Az     Yeterli              Hayir\n",
       "3           Orta     Yeterli               Evet\n",
       "4            Çok          Az               Evet\n",
       "5             Az          Az              Hayir\n",
       "6           Orta     Yeterli               Evet\n",
       "7             Az     Yeterli              Hayir\n",
       "8            Çok     Yeterli               Evet\n",
       "9           Orta          Az              Hayir"
      ]
     },
     "execution_count": 3,
     "metadata": {},
     "output_type": "execute_result"
    }
   ],
   "source": [
    "df"
   ]
  },
  {
   "cell_type": "code",
   "execution_count": 4,
   "id": "05c29347-81ce-4d86-8a8a-f49896349645",
   "metadata": {},
   "outputs": [],
   "source": [
    "#BIRINCI DURUM\n",
    "#Çalışma Zamanına Göre Dersi Geçme Durumlarını İnceleyelim\n",
    "time = df.groupby(\"Calisma_Zamani\")"
   ]
  },
  {
   "cell_type": "code",
   "execution_count": 5,
   "id": "544d74f1-7d60-4a13-b35d-cf4ee391744d",
   "metadata": {},
   "outputs": [
    {
     "data": {
      "text/html": [
       "<div>\n",
       "<style scoped>\n",
       "    .dataframe tbody tr th:only-of-type {\n",
       "        vertical-align: middle;\n",
       "    }\n",
       "\n",
       "    .dataframe tbody tr th {\n",
       "        vertical-align: top;\n",
       "    }\n",
       "\n",
       "    .dataframe thead th {\n",
       "        text-align: right;\n",
       "    }\n",
       "</style>\n",
       "<table border=\"1\" class=\"dataframe\">\n",
       "  <thead>\n",
       "    <tr style=\"text-align: right;\">\n",
       "      <th></th>\n",
       "      <th>Calisma_Zamani</th>\n",
       "      <th>Uyku_Durumu</th>\n",
       "      <th>Dersi_gecme_durumu</th>\n",
       "    </tr>\n",
       "  </thead>\n",
       "  <tbody>\n",
       "    <tr>\n",
       "      <th>0</th>\n",
       "      <td>Çok</td>\n",
       "      <td>Yeterli</td>\n",
       "      <td>Evet</td>\n",
       "    </tr>\n",
       "    <tr>\n",
       "      <th>4</th>\n",
       "      <td>Çok</td>\n",
       "      <td>Az</td>\n",
       "      <td>Evet</td>\n",
       "    </tr>\n",
       "    <tr>\n",
       "      <th>8</th>\n",
       "      <td>Çok</td>\n",
       "      <td>Yeterli</td>\n",
       "      <td>Evet</td>\n",
       "    </tr>\n",
       "  </tbody>\n",
       "</table>\n",
       "</div>"
      ],
      "text/plain": [
       "  Calisma_Zamani Uyku_Durumu Dersi_gecme_durumu\n",
       "0            Çok     Yeterli               Evet\n",
       "4            Çok          Az               Evet\n",
       "8            Çok     Yeterli               Evet"
      ]
     },
     "execution_count": 5,
     "metadata": {},
     "output_type": "execute_result"
    }
   ],
   "source": [
    "time.get_group(\"Çok\")"
   ]
  },
  {
   "cell_type": "code",
   "execution_count": 6,
   "id": "dfe7b701-f1a5-4df5-b203-b86acd08a8cb",
   "metadata": {},
   "outputs": [
    {
     "data": {
      "text/html": [
       "<div>\n",
       "<style scoped>\n",
       "    .dataframe tbody tr th:only-of-type {\n",
       "        vertical-align: middle;\n",
       "    }\n",
       "\n",
       "    .dataframe tbody tr th {\n",
       "        vertical-align: top;\n",
       "    }\n",
       "\n",
       "    .dataframe thead th {\n",
       "        text-align: right;\n",
       "    }\n",
       "</style>\n",
       "<table border=\"1\" class=\"dataframe\">\n",
       "  <thead>\n",
       "    <tr style=\"text-align: right;\">\n",
       "      <th></th>\n",
       "      <th>Calisma_Zamani</th>\n",
       "      <th>Uyku_Durumu</th>\n",
       "      <th>Dersi_gecme_durumu</th>\n",
       "    </tr>\n",
       "  </thead>\n",
       "  <tbody>\n",
       "    <tr>\n",
       "      <th>1</th>\n",
       "      <td>Orta</td>\n",
       "      <td>Az</td>\n",
       "      <td>Hayir</td>\n",
       "    </tr>\n",
       "    <tr>\n",
       "      <th>3</th>\n",
       "      <td>Orta</td>\n",
       "      <td>Yeterli</td>\n",
       "      <td>Evet</td>\n",
       "    </tr>\n",
       "    <tr>\n",
       "      <th>6</th>\n",
       "      <td>Orta</td>\n",
       "      <td>Yeterli</td>\n",
       "      <td>Evet</td>\n",
       "    </tr>\n",
       "    <tr>\n",
       "      <th>9</th>\n",
       "      <td>Orta</td>\n",
       "      <td>Az</td>\n",
       "      <td>Hayir</td>\n",
       "    </tr>\n",
       "  </tbody>\n",
       "</table>\n",
       "</div>"
      ],
      "text/plain": [
       "  Calisma_Zamani Uyku_Durumu Dersi_gecme_durumu\n",
       "1           Orta          Az              Hayir\n",
       "3           Orta     Yeterli               Evet\n",
       "6           Orta     Yeterli               Evet\n",
       "9           Orta          Az              Hayir"
      ]
     },
     "execution_count": 6,
     "metadata": {},
     "output_type": "execute_result"
    }
   ],
   "source": [
    "df2  = time.get_group(\"Orta\")\n",
    "df2"
   ]
  },
  {
   "cell_type": "code",
   "execution_count": 7,
   "id": "84b7324f-5e31-4766-8a93-41612fc309cd",
   "metadata": {},
   "outputs": [
    {
     "data": {
      "text/html": [
       "<div>\n",
       "<style scoped>\n",
       "    .dataframe tbody tr th:only-of-type {\n",
       "        vertical-align: middle;\n",
       "    }\n",
       "\n",
       "    .dataframe tbody tr th {\n",
       "        vertical-align: top;\n",
       "    }\n",
       "\n",
       "    .dataframe thead th {\n",
       "        text-align: right;\n",
       "    }\n",
       "</style>\n",
       "<table border=\"1\" class=\"dataframe\">\n",
       "  <thead>\n",
       "    <tr style=\"text-align: right;\">\n",
       "      <th></th>\n",
       "      <th>Calisma_Zamani</th>\n",
       "      <th>Uyku_Durumu</th>\n",
       "      <th>Dersi_gecme_durumu</th>\n",
       "    </tr>\n",
       "  </thead>\n",
       "  <tbody>\n",
       "    <tr>\n",
       "      <th>2</th>\n",
       "      <td>Az</td>\n",
       "      <td>Yeterli</td>\n",
       "      <td>Hayir</td>\n",
       "    </tr>\n",
       "    <tr>\n",
       "      <th>5</th>\n",
       "      <td>Az</td>\n",
       "      <td>Az</td>\n",
       "      <td>Hayir</td>\n",
       "    </tr>\n",
       "    <tr>\n",
       "      <th>7</th>\n",
       "      <td>Az</td>\n",
       "      <td>Yeterli</td>\n",
       "      <td>Hayir</td>\n",
       "    </tr>\n",
       "  </tbody>\n",
       "</table>\n",
       "</div>"
      ],
      "text/plain": [
       "  Calisma_Zamani Uyku_Durumu Dersi_gecme_durumu\n",
       "2             Az     Yeterli              Hayir\n",
       "5             Az          Az              Hayir\n",
       "7             Az     Yeterli              Hayir"
      ]
     },
     "execution_count": 7,
     "metadata": {},
     "output_type": "execute_result"
    }
   ],
   "source": [
    "time.get_group(\"Az\")"
   ]
  },
  {
   "cell_type": "code",
   "execution_count": null,
   "id": "8a6f8650-fa63-4152-998c-0f66a08e3ca7",
   "metadata": {},
   "outputs": [],
   "source": []
  },
  {
   "cell_type": "code",
   "execution_count": 8,
   "id": "727ffab7-83d6-4fc1-b816-d307d21be6d2",
   "metadata": {},
   "outputs": [],
   "source": [
    "#Uyku durumuna göre ağacı ayıralım:\n",
    "sleep = df2.groupby(\"Uyku_Durumu\")"
   ]
  },
  {
   "cell_type": "code",
   "execution_count": 9,
   "id": "7bc0e12a-7422-43f0-bfda-10a0274c9631",
   "metadata": {},
   "outputs": [
    {
     "data": {
      "text/html": [
       "<div>\n",
       "<style scoped>\n",
       "    .dataframe tbody tr th:only-of-type {\n",
       "        vertical-align: middle;\n",
       "    }\n",
       "\n",
       "    .dataframe tbody tr th {\n",
       "        vertical-align: top;\n",
       "    }\n",
       "\n",
       "    .dataframe thead th {\n",
       "        text-align: right;\n",
       "    }\n",
       "</style>\n",
       "<table border=\"1\" class=\"dataframe\">\n",
       "  <thead>\n",
       "    <tr style=\"text-align: right;\">\n",
       "      <th></th>\n",
       "      <th>Calisma_Zamani</th>\n",
       "      <th>Uyku_Durumu</th>\n",
       "      <th>Dersi_gecme_durumu</th>\n",
       "    </tr>\n",
       "  </thead>\n",
       "  <tbody>\n",
       "    <tr>\n",
       "      <th>3</th>\n",
       "      <td>Orta</td>\n",
       "      <td>Yeterli</td>\n",
       "      <td>Evet</td>\n",
       "    </tr>\n",
       "    <tr>\n",
       "      <th>6</th>\n",
       "      <td>Orta</td>\n",
       "      <td>Yeterli</td>\n",
       "      <td>Evet</td>\n",
       "    </tr>\n",
       "  </tbody>\n",
       "</table>\n",
       "</div>"
      ],
      "text/plain": [
       "  Calisma_Zamani Uyku_Durumu Dersi_gecme_durumu\n",
       "3           Orta     Yeterli               Evet\n",
       "6           Orta     Yeterli               Evet"
      ]
     },
     "execution_count": 9,
     "metadata": {},
     "output_type": "execute_result"
    }
   ],
   "source": [
    "sleep.get_group(\"Yeterli\")"
   ]
  },
  {
   "cell_type": "code",
   "execution_count": 10,
   "id": "5b36750c-4009-41ff-aa8b-270f28e341e4",
   "metadata": {},
   "outputs": [
    {
     "data": {
      "text/html": [
       "<div>\n",
       "<style scoped>\n",
       "    .dataframe tbody tr th:only-of-type {\n",
       "        vertical-align: middle;\n",
       "    }\n",
       "\n",
       "    .dataframe tbody tr th {\n",
       "        vertical-align: top;\n",
       "    }\n",
       "\n",
       "    .dataframe thead th {\n",
       "        text-align: right;\n",
       "    }\n",
       "</style>\n",
       "<table border=\"1\" class=\"dataframe\">\n",
       "  <thead>\n",
       "    <tr style=\"text-align: right;\">\n",
       "      <th></th>\n",
       "      <th>Calisma_Zamani</th>\n",
       "      <th>Uyku_Durumu</th>\n",
       "      <th>Dersi_gecme_durumu</th>\n",
       "    </tr>\n",
       "  </thead>\n",
       "  <tbody>\n",
       "    <tr>\n",
       "      <th>1</th>\n",
       "      <td>Orta</td>\n",
       "      <td>Az</td>\n",
       "      <td>Hayir</td>\n",
       "    </tr>\n",
       "    <tr>\n",
       "      <th>9</th>\n",
       "      <td>Orta</td>\n",
       "      <td>Az</td>\n",
       "      <td>Hayir</td>\n",
       "    </tr>\n",
       "  </tbody>\n",
       "</table>\n",
       "</div>"
      ],
      "text/plain": [
       "  Calisma_Zamani Uyku_Durumu Dersi_gecme_durumu\n",
       "1           Orta          Az              Hayir\n",
       "9           Orta          Az              Hayir"
      ]
     },
     "execution_count": 10,
     "metadata": {},
     "output_type": "execute_result"
    }
   ],
   "source": [
    "sleep.get_group(\"Az\")"
   ]
  },
  {
   "cell_type": "code",
   "execution_count": null,
   "id": "2ff81dbd-accc-4a5d-8bf6-3e6322c65a06",
   "metadata": {},
   "outputs": [],
   "source": []
  },
  {
   "cell_type": "code",
   "execution_count": 11,
   "id": "e406df19-80fc-4fba-91f3-cc428316a5f0",
   "metadata": {},
   "outputs": [
    {
     "data": {
      "text/html": [
       "<div>\n",
       "<style scoped>\n",
       "    .dataframe tbody tr th:only-of-type {\n",
       "        vertical-align: middle;\n",
       "    }\n",
       "\n",
       "    .dataframe tbody tr th {\n",
       "        vertical-align: top;\n",
       "    }\n",
       "\n",
       "    .dataframe thead th {\n",
       "        text-align: right;\n",
       "    }\n",
       "</style>\n",
       "<table border=\"1\" class=\"dataframe\">\n",
       "  <thead>\n",
       "    <tr style=\"text-align: right;\">\n",
       "      <th></th>\n",
       "      <th>Calisma_Zamani</th>\n",
       "      <th>Uyku_Durumu</th>\n",
       "      <th>Dersi_gecme_durumu</th>\n",
       "    </tr>\n",
       "  </thead>\n",
       "  <tbody>\n",
       "    <tr>\n",
       "      <th>0</th>\n",
       "      <td>Çok</td>\n",
       "      <td>Yeterli</td>\n",
       "      <td>Evet</td>\n",
       "    </tr>\n",
       "    <tr>\n",
       "      <th>2</th>\n",
       "      <td>Az</td>\n",
       "      <td>Yeterli</td>\n",
       "      <td>Hayir</td>\n",
       "    </tr>\n",
       "    <tr>\n",
       "      <th>3</th>\n",
       "      <td>Orta</td>\n",
       "      <td>Yeterli</td>\n",
       "      <td>Evet</td>\n",
       "    </tr>\n",
       "    <tr>\n",
       "      <th>6</th>\n",
       "      <td>Orta</td>\n",
       "      <td>Yeterli</td>\n",
       "      <td>Evet</td>\n",
       "    </tr>\n",
       "    <tr>\n",
       "      <th>7</th>\n",
       "      <td>Az</td>\n",
       "      <td>Yeterli</td>\n",
       "      <td>Hayir</td>\n",
       "    </tr>\n",
       "    <tr>\n",
       "      <th>8</th>\n",
       "      <td>Çok</td>\n",
       "      <td>Yeterli</td>\n",
       "      <td>Evet</td>\n",
       "    </tr>\n",
       "  </tbody>\n",
       "</table>\n",
       "</div>"
      ],
      "text/plain": [
       "  Calisma_Zamani Uyku_Durumu Dersi_gecme_durumu\n",
       "0            Çok     Yeterli               Evet\n",
       "2             Az     Yeterli              Hayir\n",
       "3           Orta     Yeterli               Evet\n",
       "6           Orta     Yeterli               Evet\n",
       "7             Az     Yeterli              Hayir\n",
       "8            Çok     Yeterli               Evet"
      ]
     },
     "execution_count": 11,
     "metadata": {},
     "output_type": "execute_result"
    }
   ],
   "source": [
    "#IKINCI DURUM\n",
    "sleep_two = df.groupby(\"Uyku_Durumu\")\n",
    "data1 = sleep_two.get_group(\"Yeterli\")\n",
    "data1"
   ]
  },
  {
   "cell_type": "code",
   "execution_count": 12,
   "id": "3921d038-8827-4232-9213-65de260ab639",
   "metadata": {},
   "outputs": [
    {
     "data": {
      "text/html": [
       "<div>\n",
       "<style scoped>\n",
       "    .dataframe tbody tr th:only-of-type {\n",
       "        vertical-align: middle;\n",
       "    }\n",
       "\n",
       "    .dataframe tbody tr th {\n",
       "        vertical-align: top;\n",
       "    }\n",
       "\n",
       "    .dataframe thead th {\n",
       "        text-align: right;\n",
       "    }\n",
       "</style>\n",
       "<table border=\"1\" class=\"dataframe\">\n",
       "  <thead>\n",
       "    <tr style=\"text-align: right;\">\n",
       "      <th></th>\n",
       "      <th>Calisma_Zamani</th>\n",
       "      <th>Uyku_Durumu</th>\n",
       "      <th>Dersi_gecme_durumu</th>\n",
       "    </tr>\n",
       "  </thead>\n",
       "  <tbody>\n",
       "    <tr>\n",
       "      <th>1</th>\n",
       "      <td>Orta</td>\n",
       "      <td>Az</td>\n",
       "      <td>Hayir</td>\n",
       "    </tr>\n",
       "    <tr>\n",
       "      <th>4</th>\n",
       "      <td>Çok</td>\n",
       "      <td>Az</td>\n",
       "      <td>Evet</td>\n",
       "    </tr>\n",
       "    <tr>\n",
       "      <th>5</th>\n",
       "      <td>Az</td>\n",
       "      <td>Az</td>\n",
       "      <td>Hayir</td>\n",
       "    </tr>\n",
       "    <tr>\n",
       "      <th>9</th>\n",
       "      <td>Orta</td>\n",
       "      <td>Az</td>\n",
       "      <td>Hayir</td>\n",
       "    </tr>\n",
       "  </tbody>\n",
       "</table>\n",
       "</div>"
      ],
      "text/plain": [
       "  Calisma_Zamani Uyku_Durumu Dersi_gecme_durumu\n",
       "1           Orta          Az              Hayir\n",
       "4            Çok          Az               Evet\n",
       "5             Az          Az              Hayir\n",
       "9           Orta          Az              Hayir"
      ]
     },
     "execution_count": 12,
     "metadata": {},
     "output_type": "execute_result"
    }
   ],
   "source": [
    "data2 = sleep_two.get_group(\"Az\")\n",
    "data2"
   ]
  },
  {
   "cell_type": "code",
   "execution_count": null,
   "id": "5c6a8a7b-2533-414d-a668-e09945b78c92",
   "metadata": {},
   "outputs": [],
   "source": []
  },
  {
   "cell_type": "code",
   "execution_count": 13,
   "id": "54b977ca-2f99-4a2d-961c-21d7479fd894",
   "metadata": {},
   "outputs": [
    {
     "data": {
      "text/html": [
       "<div>\n",
       "<style scoped>\n",
       "    .dataframe tbody tr th:only-of-type {\n",
       "        vertical-align: middle;\n",
       "    }\n",
       "\n",
       "    .dataframe tbody tr th {\n",
       "        vertical-align: top;\n",
       "    }\n",
       "\n",
       "    .dataframe thead th {\n",
       "        text-align: right;\n",
       "    }\n",
       "</style>\n",
       "<table border=\"1\" class=\"dataframe\">\n",
       "  <thead>\n",
       "    <tr style=\"text-align: right;\">\n",
       "      <th></th>\n",
       "      <th>Calisma_Zamani</th>\n",
       "      <th>Uyku_Durumu</th>\n",
       "      <th>Dersi_gecme_durumu</th>\n",
       "    </tr>\n",
       "  </thead>\n",
       "  <tbody>\n",
       "    <tr>\n",
       "      <th>0</th>\n",
       "      <td>Çok</td>\n",
       "      <td>Yeterli</td>\n",
       "      <td>Evet</td>\n",
       "    </tr>\n",
       "    <tr>\n",
       "      <th>8</th>\n",
       "      <td>Çok</td>\n",
       "      <td>Yeterli</td>\n",
       "      <td>Evet</td>\n",
       "    </tr>\n",
       "  </tbody>\n",
       "</table>\n",
       "</div>"
      ],
      "text/plain": [
       "  Calisma_Zamani Uyku_Durumu Dersi_gecme_durumu\n",
       "0            Çok     Yeterli               Evet\n",
       "8            Çok     Yeterli               Evet"
      ]
     },
     "execution_count": 13,
     "metadata": {},
     "output_type": "execute_result"
    }
   ],
   "source": [
    "#Durum2 için Calisma Zamanına Bölelim\n",
    "time_two = data1.groupby(\"Calisma_Zamani\")\n",
    "time_two.get_group(\"Çok\")"
   ]
  },
  {
   "cell_type": "code",
   "execution_count": 14,
   "id": "7ddf392b-db40-4628-8a43-3c08bd7f66bc",
   "metadata": {},
   "outputs": [
    {
     "data": {
      "text/html": [
       "<div>\n",
       "<style scoped>\n",
       "    .dataframe tbody tr th:only-of-type {\n",
       "        vertical-align: middle;\n",
       "    }\n",
       "\n",
       "    .dataframe tbody tr th {\n",
       "        vertical-align: top;\n",
       "    }\n",
       "\n",
       "    .dataframe thead th {\n",
       "        text-align: right;\n",
       "    }\n",
       "</style>\n",
       "<table border=\"1\" class=\"dataframe\">\n",
       "  <thead>\n",
       "    <tr style=\"text-align: right;\">\n",
       "      <th></th>\n",
       "      <th>Calisma_Zamani</th>\n",
       "      <th>Uyku_Durumu</th>\n",
       "      <th>Dersi_gecme_durumu</th>\n",
       "    </tr>\n",
       "  </thead>\n",
       "  <tbody>\n",
       "    <tr>\n",
       "      <th>2</th>\n",
       "      <td>Az</td>\n",
       "      <td>Yeterli</td>\n",
       "      <td>Hayir</td>\n",
       "    </tr>\n",
       "    <tr>\n",
       "      <th>7</th>\n",
       "      <td>Az</td>\n",
       "      <td>Yeterli</td>\n",
       "      <td>Hayir</td>\n",
       "    </tr>\n",
       "  </tbody>\n",
       "</table>\n",
       "</div>"
      ],
      "text/plain": [
       "  Calisma_Zamani Uyku_Durumu Dersi_gecme_durumu\n",
       "2             Az     Yeterli              Hayir\n",
       "7             Az     Yeterli              Hayir"
      ]
     },
     "execution_count": 14,
     "metadata": {},
     "output_type": "execute_result"
    }
   ],
   "source": [
    "time_two.get_group(\"Az\")"
   ]
  },
  {
   "cell_type": "code",
   "execution_count": 15,
   "id": "fbb5d9a3-1d07-4f69-b01c-2070141e198d",
   "metadata": {},
   "outputs": [
    {
     "data": {
      "text/html": [
       "<div>\n",
       "<style scoped>\n",
       "    .dataframe tbody tr th:only-of-type {\n",
       "        vertical-align: middle;\n",
       "    }\n",
       "\n",
       "    .dataframe tbody tr th {\n",
       "        vertical-align: top;\n",
       "    }\n",
       "\n",
       "    .dataframe thead th {\n",
       "        text-align: right;\n",
       "    }\n",
       "</style>\n",
       "<table border=\"1\" class=\"dataframe\">\n",
       "  <thead>\n",
       "    <tr style=\"text-align: right;\">\n",
       "      <th></th>\n",
       "      <th>Calisma_Zamani</th>\n",
       "      <th>Uyku_Durumu</th>\n",
       "      <th>Dersi_gecme_durumu</th>\n",
       "    </tr>\n",
       "  </thead>\n",
       "  <tbody>\n",
       "    <tr>\n",
       "      <th>3</th>\n",
       "      <td>Orta</td>\n",
       "      <td>Yeterli</td>\n",
       "      <td>Evet</td>\n",
       "    </tr>\n",
       "    <tr>\n",
       "      <th>6</th>\n",
       "      <td>Orta</td>\n",
       "      <td>Yeterli</td>\n",
       "      <td>Evet</td>\n",
       "    </tr>\n",
       "  </tbody>\n",
       "</table>\n",
       "</div>"
      ],
      "text/plain": [
       "  Calisma_Zamani Uyku_Durumu Dersi_gecme_durumu\n",
       "3           Orta     Yeterli               Evet\n",
       "6           Orta     Yeterli               Evet"
      ]
     },
     "execution_count": 15,
     "metadata": {},
     "output_type": "execute_result"
    }
   ],
   "source": [
    "time_two.get_group(\"Orta\")"
   ]
  },
  {
   "cell_type": "code",
   "execution_count": null,
   "id": "7b1e4437-82bd-4249-beb7-231c3312ac0a",
   "metadata": {},
   "outputs": [],
   "source": []
  },
  {
   "cell_type": "code",
   "execution_count": 16,
   "id": "260eea56-b43a-4a6c-9f20-eca03e4e9d2f",
   "metadata": {},
   "outputs": [
    {
     "data": {
      "text/html": [
       "<div>\n",
       "<style scoped>\n",
       "    .dataframe tbody tr th:only-of-type {\n",
       "        vertical-align: middle;\n",
       "    }\n",
       "\n",
       "    .dataframe tbody tr th {\n",
       "        vertical-align: top;\n",
       "    }\n",
       "\n",
       "    .dataframe thead th {\n",
       "        text-align: right;\n",
       "    }\n",
       "</style>\n",
       "<table border=\"1\" class=\"dataframe\">\n",
       "  <thead>\n",
       "    <tr style=\"text-align: right;\">\n",
       "      <th></th>\n",
       "      <th>Calisma_Zamani</th>\n",
       "      <th>Uyku_Durumu</th>\n",
       "      <th>Dersi_gecme_durumu</th>\n",
       "    </tr>\n",
       "  </thead>\n",
       "  <tbody>\n",
       "    <tr>\n",
       "      <th>4</th>\n",
       "      <td>Çok</td>\n",
       "      <td>Az</td>\n",
       "      <td>Evet</td>\n",
       "    </tr>\n",
       "  </tbody>\n",
       "</table>\n",
       "</div>"
      ],
      "text/plain": [
       "  Calisma_Zamani Uyku_Durumu Dersi_gecme_durumu\n",
       "4            Çok          Az               Evet"
      ]
     },
     "execution_count": 16,
     "metadata": {},
     "output_type": "execute_result"
    }
   ],
   "source": [
    "time_tree = data2.groupby(\"Calisma_Zamani\")\n",
    "time_tree.get_group(\"Çok\")"
   ]
  },
  {
   "cell_type": "code",
   "execution_count": 17,
   "id": "1d38785f-27ed-4c97-84e0-a6810b514224",
   "metadata": {},
   "outputs": [
    {
     "data": {
      "text/html": [
       "<div>\n",
       "<style scoped>\n",
       "    .dataframe tbody tr th:only-of-type {\n",
       "        vertical-align: middle;\n",
       "    }\n",
       "\n",
       "    .dataframe tbody tr th {\n",
       "        vertical-align: top;\n",
       "    }\n",
       "\n",
       "    .dataframe thead th {\n",
       "        text-align: right;\n",
       "    }\n",
       "</style>\n",
       "<table border=\"1\" class=\"dataframe\">\n",
       "  <thead>\n",
       "    <tr style=\"text-align: right;\">\n",
       "      <th></th>\n",
       "      <th>Calisma_Zamani</th>\n",
       "      <th>Uyku_Durumu</th>\n",
       "      <th>Dersi_gecme_durumu</th>\n",
       "    </tr>\n",
       "  </thead>\n",
       "  <tbody>\n",
       "    <tr>\n",
       "      <th>5</th>\n",
       "      <td>Az</td>\n",
       "      <td>Az</td>\n",
       "      <td>Hayir</td>\n",
       "    </tr>\n",
       "  </tbody>\n",
       "</table>\n",
       "</div>"
      ],
      "text/plain": [
       "  Calisma_Zamani Uyku_Durumu Dersi_gecme_durumu\n",
       "5             Az          Az              Hayir"
      ]
     },
     "execution_count": 17,
     "metadata": {},
     "output_type": "execute_result"
    }
   ],
   "source": [
    "time_tree = data2.groupby(\"Calisma_Zamani\")\n",
    "time_tree.get_group(\"Az\")"
   ]
  },
  {
   "cell_type": "code",
   "execution_count": 18,
   "id": "ea2fa985-b2bb-4fcf-88c6-c7c0bba82fc1",
   "metadata": {},
   "outputs": [
    {
     "data": {
      "text/html": [
       "<div>\n",
       "<style scoped>\n",
       "    .dataframe tbody tr th:only-of-type {\n",
       "        vertical-align: middle;\n",
       "    }\n",
       "\n",
       "    .dataframe tbody tr th {\n",
       "        vertical-align: top;\n",
       "    }\n",
       "\n",
       "    .dataframe thead th {\n",
       "        text-align: right;\n",
       "    }\n",
       "</style>\n",
       "<table border=\"1\" class=\"dataframe\">\n",
       "  <thead>\n",
       "    <tr style=\"text-align: right;\">\n",
       "      <th></th>\n",
       "      <th>Calisma_Zamani</th>\n",
       "      <th>Uyku_Durumu</th>\n",
       "      <th>Dersi_gecme_durumu</th>\n",
       "    </tr>\n",
       "  </thead>\n",
       "  <tbody>\n",
       "    <tr>\n",
       "      <th>1</th>\n",
       "      <td>Orta</td>\n",
       "      <td>Az</td>\n",
       "      <td>Hayir</td>\n",
       "    </tr>\n",
       "    <tr>\n",
       "      <th>9</th>\n",
       "      <td>Orta</td>\n",
       "      <td>Az</td>\n",
       "      <td>Hayir</td>\n",
       "    </tr>\n",
       "  </tbody>\n",
       "</table>\n",
       "</div>"
      ],
      "text/plain": [
       "  Calisma_Zamani Uyku_Durumu Dersi_gecme_durumu\n",
       "1           Orta          Az              Hayir\n",
       "9           Orta          Az              Hayir"
      ]
     },
     "execution_count": 18,
     "metadata": {},
     "output_type": "execute_result"
    }
   ],
   "source": [
    "time_tree = data2.groupby(\"Calisma_Zamani\")\n",
    "time_tree.get_group(\"Orta\")"
   ]
  },
  {
   "cell_type": "code",
   "execution_count": null,
   "id": "00df5d42-d4e8-44b2-848d-d2264607e8c5",
   "metadata": {},
   "outputs": [],
   "source": []
  },
  {
   "cell_type": "code",
   "execution_count": 39,
   "id": "bb384cc3-d051-493a-9f1f-3d8a1624b6b2",
   "metadata": {},
   "outputs": [
    {
     "data": {
      "text/plain": [
       "0.2"
      ]
     },
     "execution_count": 39,
     "metadata": {},
     "output_type": "execute_result"
    }
   ],
   "source": [
    "n1 = 3  \n",
    "n2 = 4\n",
    "n3 = 3  \n",
    "\n",
    "# Gini indeksleri\n",
    "gini_calisma1 = 1 - (3/3)**2\n",
    "gini_calisma2 = 1 - (2/4)**2 - (2/4)**2\n",
    "gini_calisma3 = 1 - (3/3)**2\n",
    "total_gini = (n1 * gini_calisma1 + n2 * gini_calisma2 + n3 * gini_calisma3) / (n1 + n2 + n3)\n",
    "total_gini"
   ]
  },
  {
   "cell_type": "code",
   "execution_count": 42,
   "id": "7eebd0ac-040d-4b92-997c-a6621c5761fd",
   "metadata": {},
   "outputs": [
    {
     "data": {
      "text/plain": [
       "0.4166666666666667"
      ]
     },
     "execution_count": 42,
     "metadata": {},
     "output_type": "execute_result"
    }
   ],
   "source": [
    "# Her düğümün boyutunu belirleyelim\n",
    "n1_uyku = 6  \n",
    "n2_uyku = 4  \n",
    "\n",
    "gini_uyku1 = 1 - (4/6)**2 - (2/6)**2\n",
    "gini_uyku2 = 1 - (1/4)**2 - (3/4)**2\n",
    "# Ağırlıklı Gini indeksi\n",
    "total_gini_uyku = (n1_uyku * gini_uyku1 + n2_uyku * gini_uyku2) / (n1_uyku + n2_uyku)\n",
    "total_gini_uyku"
   ]
  },
  {
   "cell_type": "code",
   "execution_count": null,
   "id": "f57c1677-1ff1-42e5-bb22-7c4f87dca7a9",
   "metadata": {},
   "outputs": [],
   "source": []
  },
  {
   "cell_type": "code",
   "execution_count": 25,
   "id": "caf72570-a347-41d9-91ff-53a487477608",
   "metadata": {},
   "outputs": [],
   "source": [
    "import math"
   ]
  },
  {
   "cell_type": "code",
   "execution_count": 62,
   "id": "e69322d9-f355-49f5-8bba-3eb341b83f0c",
   "metadata": {},
   "outputs": [],
   "source": [
    "entropi = -1/2*math.log2(1/2) -1/2*math.log2(1/2)"
   ]
  },
  {
   "cell_type": "code",
   "execution_count": 63,
   "id": "c6c517df-f73d-47d2-8bfe-c95e2b241050",
   "metadata": {},
   "outputs": [],
   "source": [
    "#uyku durumu için gain\n",
    "H_yeterli = -(2/3)*math.log2(2/3) -(1/3)*math.log2(1/3)"
   ]
  },
  {
   "cell_type": "code",
   "execution_count": 64,
   "id": "44219d0a-a265-430b-9091-75e898661b64",
   "metadata": {},
   "outputs": [],
   "source": [
    "H_az = -(1/4)*math.log2(1/4) -(3/4)*math.log2(3/4)"
   ]
  },
  {
   "cell_type": "code",
   "execution_count": 73,
   "id": "2d8ce69b-fa4e-48fb-820a-7a24530482e8",
   "metadata": {},
   "outputs": [],
   "source": [
    "Bilgi_kazanci_uyku = entropi - 6/10*H_yeterli - 4/10*H_az"
   ]
  },
  {
   "cell_type": "code",
   "execution_count": 74,
   "id": "7efcf60e-22c1-4ec6-b969-0c254b1b5229",
   "metadata": {},
   "outputs": [
    {
     "data": {
      "text/plain": [
       "0.12451124978365319"
      ]
     },
     "execution_count": 74,
     "metadata": {},
     "output_type": "execute_result"
    }
   ],
   "source": [
    "Bilgi_kazanci_uyku"
   ]
  },
  {
   "cell_type": "code",
   "execution_count": null,
   "id": "0a8803f5-c47e-4097-91a5-54a779a00757",
   "metadata": {},
   "outputs": [],
   "source": []
  },
  {
   "cell_type": "code",
   "execution_count": 67,
   "id": "f041e1f7-3ea8-435b-aec7-a048456eae65",
   "metadata": {},
   "outputs": [],
   "source": [
    "#çalışma süresi için gain"
   ]
  },
  {
   "cell_type": "code",
   "execution_count": 68,
   "id": "96065618-fe25-4c2a-95b3-78b84c3f4731",
   "metadata": {},
   "outputs": [],
   "source": [
    "H_çok = -(3/3)*math.log2(3/3)"
   ]
  },
  {
   "cell_type": "code",
   "execution_count": 69,
   "id": "07cd3322-9707-4377-8dd7-6c8f3a641b25",
   "metadata": {},
   "outputs": [],
   "source": [
    "H_orta = -(2/4)*math.log2(2/4) - (2/4)*math.log2(2/4)"
   ]
  },
  {
   "cell_type": "code",
   "execution_count": 70,
   "id": "1b9d9f08-a910-4e65-b28d-e8cf2fc970a4",
   "metadata": {},
   "outputs": [],
   "source": [
    "H_uyku_az =-(3/3)*math.log2(3/3)"
   ]
  },
  {
   "cell_type": "code",
   "execution_count": 75,
   "id": "f4835812-d358-4de8-9cd4-d20a9f2786bb",
   "metadata": {},
   "outputs": [],
   "source": [
    "Bilgi_kazanci_calisma = entropi - 3/10*H_çok - 4/10*H_orta - 3/10*H_uyku_az"
   ]
  },
  {
   "cell_type": "code",
   "execution_count": 76,
   "id": "339bcfec-05cf-428f-8e2f-b2c62f974405",
   "metadata": {},
   "outputs": [
    {
     "data": {
      "text/plain": [
       "0.6"
      ]
     },
     "execution_count": 76,
     "metadata": {},
     "output_type": "execute_result"
    }
   ],
   "source": [
    "Bilgi_kazanci_calisma"
   ]
  },
  {
   "cell_type": "code",
   "execution_count": null,
   "id": "0f511ead-cbf4-4db9-aaab-5cc2fa5d24fd",
   "metadata": {},
   "outputs": [],
   "source": []
  }
 ],
 "metadata": {
  "kernelspec": {
   "display_name": "Python 3 (ipykernel)",
   "language": "python",
   "name": "python3"
  },
  "language_info": {
   "codemirror_mode": {
    "name": "ipython",
    "version": 3
   },
   "file_extension": ".py",
   "mimetype": "text/x-python",
   "name": "python",
   "nbconvert_exporter": "python",
   "pygments_lexer": "ipython3",
   "version": "3.12.4"
  }
 },
 "nbformat": 4,
 "nbformat_minor": 5
}
